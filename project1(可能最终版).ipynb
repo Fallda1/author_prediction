{
 "cells": [
  {
   "cell_type": "code",
   "execution_count": 26,
   "id": "initial_id",
   "metadata": {
    "ExecuteTime": {
     "end_time": "2024-01-26T01:22:34.274657Z",
     "start_time": "2024-01-26T01:22:29.407423Z"
    },
    "scrolled": true
   },
   "outputs": [
    {
     "name": "stderr",
     "output_type": "stream",
     "text": [
      "[nltk_data] Downloading package stopwords to\n",
      "[nltk_data]     /Users/linshupei/nltk_data...\n",
      "[nltk_data]   Package stopwords is already up-to-date!\n"
     ]
    },
    {
     "name": "stdout",
     "output_type": "stream",
     "text": [
      "                                                segment               label\n",
      "1190  help cases . honour address ? ” “ may address ...  Arthur Conan Doyle\n",
      "1191  note ? ” asked deep harsh voice strongly marke...  Arthur Conan Doyle\n",
      "1192  “ Well , found plans seriously menaced . looke...  Arthur Conan Doyle\n",
      "1193  nothing half dozen people neighbourhood least ...  Arthur Conan Doyle\n",
      "1194  mask showing face . comes , mistaken , resolve...  Arthur Conan Doyle\n",
      "1195  asked . “ Oh , turned men ’ heads part . daint...  Arthur Conan Doyle\n",
      "1196  upon stairs passage , paused immediately outsi...  Arthur Conan Doyle\n",
      "1197  instrument , crack one high-power lenses , wou...  Arthur Conan Doyle\n",
      "1198  , instead theories suit facts . note . deduce ...  Arthur Conan Doyle\n",
      "1199  . listened tell , began walk near Briony Lodge...  Arthur Conan Doyle\n",
      "everything is ok\n"
     ]
    }
   ],
   "source": [
    "import requests\n",
    "import re\n",
    "import random\n",
    "import pandas as pd\n",
    "import nltk\n",
    "from nltk.probability import FreqDist\n",
    "import matplotlib.pyplot as plt\n",
    "from nltk.corpus import stopwords\n",
    "\n",
    "import ssl\n",
    "\n",
    "try:\n",
    "    _create_unverified_https_context = ssl._create_unverified_context\n",
    "except AttributeError:\n",
    "    pass\n",
    "else:\n",
    "    ssl._create_default_https_context = _create_unverified_https_context\n",
    "\n",
    "books = [\"https://www.gutenberg.org/cache/epub/1342/pg1342.txt\",\n",
    "         \"https://www.gutenberg.org/cache/epub/11/pg11.txt\",\n",
    "         \"https://www.gutenberg.org/cache/epub/2701/pg2701.txt\",\n",
    "         \"https://www.gutenberg.org/cache/epub/345/pg345.txt\",\n",
    "         \"https://www.gutenberg.org/cache/epub/84/pg84.txt\",\n",
    "         \"https://www.gutenberg.org/cache/epub/1661/pg1661.txt\"]\n",
    "message = \"everything is ok\"\n",
    "master_segments = []\n",
    "master_labels = []\n",
    "\n",
    "\n",
    "def getPartitions(books):\n",
    "    for index, url in enumerate(books):\n",
    "        response = requests.get(url)\n",
    "        text = response.text\n",
    "        max = len(text.split()) // 30 - 1\n",
    "        if (max < 200):\n",
    "            message = \"The book \" + chr(index) + \" is too short\"\n",
    "            return message\n",
    "        tokenized_sents = nltk.sent_tokenize(text)\n",
    "        tokenized_word = nltk.word_tokenize(text)\n",
    "        filtered_sents = []\n",
    "        for w in tokenized_word:  #is this wrong and should be tokenized_word?\n",
    "            if w.lower() not in stop_words:\n",
    "                filtered_sents.append(w)\n",
    "        authors = ['Jane Austen', 'Lewis Carroll', 'Herman Melville', 'Bram Stoker', 'Mary Wollstonecraft Shelley', 'Arthur Conan Doyle']        \n",
    "        lable = authors[index]\n",
    "        label_list = [lable] * 200\n",
    "        starters = random.sample(range(0, max + 1), 200)\n",
    "        segments = [\" \".join(filtered_sents[i:i + 30]) for i in starters]\n",
    "        master_segments.extend(segments)\n",
    "        master_labels.extend(label_list)\n",
    "        df = pd.DataFrame({\"segment\": master_segments, \"label\": master_labels})\n",
    "    return df\n",
    "\n",
    "\n",
    "nltk.download('stopwords')\n",
    "stop_words = set(stopwords.words(\"english\"))\n",
    "bookPertitions = getPartitions(books)\n",
    "if isinstance(bookPertitions, str):\n",
    "    print(bookPertitions)\n",
    "else:\n",
    "    print(bookPertitions.tail(10))\n",
    "print(message)\n"
   ]
  },
  {
   "cell_type": "code",
   "execution_count": 27,
   "id": "a0f3637424687047",
   "metadata": {
    "ExecuteTime": {
     "end_time": "2024-01-26T01:22:34.343101Z",
     "start_time": "2024-01-26T01:22:34.280117Z"
    }
   },
   "outputs": [
    {
     "name": "stdout",
     "output_type": "stream",
     "text": [
      "Naive Bayes Training Time: 0.004379987716674805 seconds\n",
      "Naive Bayes Inference Time: 0.0014188289642333984 seconds\n",
      "Accuracy: 0.95\n",
      "\n",
      "Classification Report:\n",
      "                             precision    recall  f1-score   support\n",
      "\n",
      "         Arthur Conan Doyle       0.93      0.95      0.94        55\n",
      "                Bram Stoker       0.97      0.95      0.96        59\n",
      "            Herman Melville       0.95      0.91      0.93        57\n",
      "                Jane Austen       1.00      0.93      0.96        59\n",
      "              Lewis Carroll       0.90      1.00      0.95        69\n",
      "Mary Wollstonecraft Shelley       0.98      0.95      0.97        61\n",
      "\n",
      "                   accuracy                           0.95       360\n",
      "                  macro avg       0.95      0.95      0.95       360\n",
      "               weighted avg       0.95      0.95      0.95       360\n",
      "\n"
     ]
    }
   ],
   "source": [
    "from sklearn.model_selection import KFold\n",
    "from sklearn import svm\n",
    "from sklearn.model_selection import cross_val_score\n",
    "from sklearn.model_selection import train_test_split\n",
    "from sklearn.feature_extraction.text import CountVectorizer\n",
    "from sklearn.naive_bayes import MultinomialNB\n",
    "from sklearn.metrics import accuracy_score, classification_report\n",
    "import time \n",
    "\n",
    "segment_train, segment_test, label_train, label_test = train_test_split(bookPertitions['segment'],\n",
    "                                                                        bookPertitions['label'], test_size=0.3,\n",
    "                                                                        random_state=42)\n",
    "vectorizer = CountVectorizer()\n",
    "segment_train_bow = vectorizer.fit_transform(segment_train)\n",
    "segment_test_bow = vectorizer.transform(segment_test)\n",
    "\n",
    "model = MultinomialNB()\n",
    "\n",
    "start_time = time.time()\n",
    "model.fit(segment_train_bow, label_train)\n",
    "end_time = time.time()\n",
    "\n",
    "training_time_nb = end_time - start_time\n",
    "print(f\"Naive Bayes Training Time: {training_time_nb} seconds\")\n",
    "\n",
    "start_time = time.time()\n",
    "predictions = model.predict(segment_test_bow)\n",
    "end_time = time.time()\n",
    "\n",
    "inference_time_nb = end_time - start_time\n",
    "print(f\"Naive Bayes Inference Time: {inference_time_nb} seconds\")\n",
    "\n",
    "accuracy = accuracy_score(label_test, predictions)\n",
    "print(f\"Accuracy: {accuracy:.2f}\")\n",
    "print(\"\\nClassification Report:\")\n",
    "print(classification_report(label_test, predictions))\n"
   ]
  },
  {
   "cell_type": "code",
   "execution_count": 28,
   "id": "eebf8678b047c562",
   "metadata": {
    "ExecuteTime": {
     "end_time": "2024-01-26T01:22:34.474300Z",
     "start_time": "2024-01-26T01:22:34.294932Z"
    }
   },
   "outputs": [
    {
     "name": "stdout",
     "output_type": "stream",
     "text": [
      "Accuracy: 0.90\n",
      "\n",
      "Classification Report:\n",
      "                             precision    recall  f1-score   support\n",
      "\n",
      "         Arthur Conan Doyle       0.91      0.91      0.91        55\n",
      "                Bram Stoker       0.89      0.83      0.86        59\n",
      "            Herman Melville       0.73      0.95      0.82        57\n",
      "                Jane Austen       0.96      0.85      0.90        59\n",
      "              Lewis Carroll       0.99      0.97      0.98        69\n",
      "Mary Wollstonecraft Shelley       0.95      0.87      0.91        61\n",
      "\n",
      "                   accuracy                           0.90       360\n",
      "                  macro avg       0.90      0.90      0.90       360\n",
      "               weighted avg       0.91      0.90      0.90       360\n",
      "\n"
     ]
    }
   ],
   "source": [
    "from sklearn.ensemble import RandomForestClassifier\n",
    "\n",
    "rf_model = RandomForestClassifier(n_estimators=100, random_state=42)\n",
    "rf_model.fit(segment_train_bow, label_train)\n",
    "\n",
    "predictions = rf_model.predict(segment_test_bow)\n",
    "\n",
    "# Evaluate the model\n",
    "accuracy = accuracy_score(label_test, predictions)\n",
    "print(f\"Accuracy: {accuracy:.2f}\")\n",
    "print(\"\\nClassification Report:\")\n",
    "print(classification_report(label_test, predictions))\n"
   ]
  },
  {
   "cell_type": "code",
   "execution_count": 29,
   "id": "7363b297e2ca7e38",
   "metadata": {
    "ExecuteTime": {
     "end_time": "2024-01-26T01:22:34.524479Z",
     "start_time": "2024-01-26T01:22:34.461212Z"
    }
   },
   "outputs": [
    {
     "name": "stdout",
     "output_type": "stream",
     "text": [
      "Accuracy: 0.59\n",
      "\n",
      "Classification Report:\n",
      "                             precision    recall  f1-score   support\n",
      "\n",
      "         Arthur Conan Doyle       0.28      0.98      0.43        55\n",
      "                Bram Stoker       0.92      0.41      0.56        59\n",
      "            Herman Melville       0.80      0.21      0.33        57\n",
      "                Jane Austen       1.00      0.41      0.58        59\n",
      "              Lewis Carroll       0.96      0.97      0.96        69\n",
      "Mary Wollstonecraft Shelley       1.00      0.51      0.67        61\n",
      "\n",
      "                   accuracy                           0.59       360\n",
      "                  macro avg       0.83      0.58      0.59       360\n",
      "               weighted avg       0.84      0.59      0.61       360\n",
      "\n"
     ]
    }
   ],
   "source": [
    "from sklearn.neighbors import KNeighborsClassifier\n",
    "\n",
    "# Create and train the k-NN model\n",
    "knn_model = KNeighborsClassifier(n_neighbors=5)  # You can adjust the number of neighbors (k) based on your preference\n",
    "knn_model.fit(segment_train_bow, label_train)\n",
    "\n",
    "# Make predictions on the test set\n",
    "predictions = knn_model.predict(segment_test_bow)\n",
    "\n",
    "# Evaluate the model\n",
    "accuracy = accuracy_score(label_test, predictions)\n",
    "print(f\"Accuracy: {accuracy:.2f}\")\n",
    "print(\"\\nClassification Report:\")\n",
    "print(classification_report(label_test, predictions))\n"
   ]
  },
  {
   "cell_type": "code",
   "execution_count": 30,
   "id": "7cece6668404d5c2",
   "metadata": {
    "ExecuteTime": {
     "end_time": "2024-01-26T01:22:34.590726Z",
     "start_time": "2024-01-26T01:22:34.482510Z"
    }
   },
   "outputs": [
    {
     "name": "stdout",
     "output_type": "stream",
     "text": [
      "SVM Training Time: 0.2536470890045166 seconds\n",
      "SVM Inference Time: 0.055459022521972656 seconds\n",
      "Accuracy: 0.95\n",
      "\n",
      "Classification Report:\n",
      "                             precision    recall  f1-score   support\n",
      "\n",
      "         Arthur Conan Doyle       0.91      0.93      0.92        55\n",
      "                Bram Stoker       0.87      0.92      0.89        59\n",
      "            Herman Melville       0.95      0.95      0.95        57\n",
      "                Jane Austen       1.00      0.93      0.96        59\n",
      "              Lewis Carroll       0.99      0.99      0.99        69\n",
      "Mary Wollstonecraft Shelley       0.97      0.97      0.97        61\n",
      "\n",
      "                   accuracy                           0.95       360\n",
      "                  macro avg       0.95      0.95      0.95       360\n",
      "               weighted avg       0.95      0.95      0.95       360\n",
      "\n"
     ]
    }
   ],
   "source": [
    "from sklearn import svm\n",
    "\n",
    "svm_model = svm.SVC(kernel='linear', C=20.0)\n",
    "\n",
    "start_time = time.time()\n",
    "svm_model.fit(segment_train_bow, label_train)\n",
    "end_time = time.time()\n",
    "\n",
    "training_time_svm = end_time - start_time\n",
    "print(f\"SVM Training Time: {training_time_svm} seconds\")\n",
    "\n",
    "# Make predictions on the test set\n",
    "start_time = time.time()\n",
    "predictions = svm_model.predict(segment_test_bow)\n",
    "end_time = time.time()\n",
    "\n",
    "inference_time_svm = end_time - start_time\n",
    "print(f\"SVM Inference Time: {inference_time_svm} seconds\")\n",
    "\n",
    "# Evaluate the model\n",
    "accuracy = accuracy_score(label_test, predictions)\n",
    "print(f\"Accuracy: {accuracy:.2f}\")\n",
    "print(\"\\nClassification Report:\")\n",
    "print(classification_report(label_test, predictions))\n"
   ]
  },
  {
   "cell_type": "code",
   "execution_count": 31,
   "id": "dacf488a71864760",
   "metadata": {
    "ExecuteTime": {
     "end_time": "2024-01-26T01:22:34.591029Z",
     "start_time": "2024-01-26T01:22:34.559025Z"
    }
   },
   "outputs": [
    {
     "name": "stdout",
     "output_type": "stream",
     "text": [
      "Accuracy: 0.92\n",
      "\n",
      "Classification Report:\n",
      "                             precision    recall  f1-score   support\n",
      "\n",
      "         Arthur Conan Doyle       0.91      0.89      0.90        55\n",
      "                Bram Stoker       0.90      0.90      0.90        59\n",
      "            Herman Melville       0.91      0.91      0.91        57\n",
      "                Jane Austen       1.00      0.90      0.95        59\n",
      "              Lewis Carroll       0.92      0.99      0.95        69\n",
      "Mary Wollstonecraft Shelley       0.90      0.93      0.92        61\n",
      "\n",
      "                   accuracy                           0.92       360\n",
      "                  macro avg       0.92      0.92      0.92       360\n",
      "               weighted avg       0.92      0.92      0.92       360\n",
      "\n"
     ]
    }
   ],
   "source": [
    "from sklearn.linear_model import SGDClassifier\n",
    "\n",
    "# Create and train the SGD classifier\n",
    "sgd_model = SGDClassifier(loss='hinge', alpha=0.0001, max_iter=100, random_state=42)\n",
    "sgd_model.fit(segment_train_bow, label_train)\n",
    "\n",
    "# Make predictions on the test set\n",
    "predictions = sgd_model.predict(segment_test_bow)\n",
    "\n",
    "# Evaluate the model\n",
    "accuracy = accuracy_score(label_test, predictions)\n",
    "print(f\"Accuracy: {accuracy:.2f}\")\n",
    "print(\"\\nClassification Report:\")\n",
    "print(classification_report(label_test, predictions))"
   ]
  },
  {
   "cell_type": "code",
   "execution_count": 32,
   "id": "4cefe89ce7da2b9b",
   "metadata": {
    "ExecuteTime": {
     "end_time": "2024-01-26T01:22:37.244717Z",
     "start_time": "2024-01-26T01:22:34.583054Z"
    }
   },
   "outputs": [
    {
     "name": "stdout",
     "output_type": "stream",
     "text": [
      "Naive Bayes Cross-Validation Accuracy: 0.96\n",
      "Random Forest Cross-Validation Accuracy: 0.92\n",
      "K-Nearest Neighbors Cross-Validation Accuracy: 0.79\n",
      "Support Vector Machine Cross-Validation Accuracy: 0.96\n",
      "Stochastic Gradient Descent Cross-Validation Accuracy: 0.94\n"
     ]
    }
   ],
   "source": [
    "from sklearn.model_selection import cross_val_score, KFold\n",
    "\n",
    "# Combine training and testing data for cross-validation\n",
    "all_segments = bookPertitions['segment']\n",
    "all_labels = bookPertitions['label']\n",
    "all_data_bow = vectorizer.transform(all_segments)\n",
    "\n",
    "# Create a 10-fold cross-validation object\n",
    "kf = KFold(n_splits=10, shuffle=True, random_state=42)\n",
    "\n",
    "# Perform cross-validation for Naive Bayes\n",
    "nb_model = MultinomialNB()\n",
    "nb_scores = cross_val_score(nb_model, all_data_bow, all_labels, cv=kf)\n",
    "print(\"Naive Bayes Cross-Validation Accuracy: {:.2f}\".format(nb_scores.mean()))\n",
    "\n",
    "# Perform cross-validation for Random Forest\n",
    "rf_model = RandomForestClassifier(n_estimators=100, random_state=42)\n",
    "rf_scores = cross_val_score(rf_model, all_data_bow, all_labels, cv=kf)\n",
    "print(\"Random Forest Cross-Validation Accuracy: {:.2f}\".format(rf_scores.mean()))\n",
    "\n",
    "# Perform cross-validation for K-Nearest Neighbors\n",
    "knn_model = KNeighborsClassifier(n_neighbors=5)\n",
    "knn_scores = cross_val_score(knn_model, all_data_bow, all_labels, cv=kf)\n",
    "print(\"K-Nearest Neighbors Cross-Validation Accuracy: {:.2f}\".format(knn_scores.mean()))\n",
    "\n",
    "# Perform cross-validation for Support Vector Machine\n",
    "svm_model = svm.SVC(kernel='linear', C=20.0)\n",
    "svm_scores = cross_val_score(svm_model, all_data_bow, all_labels, cv=kf)\n",
    "print(\"Support Vector Machine Cross-Validation Accuracy: {:.2f}\".format(svm_scores.mean()))\n",
    "\n",
    "# Perform cross-validation for Stochastic Gradient Descent\n",
    "sgd_model = SGDClassifier(loss='hinge', alpha=0.0001, max_iter=100, random_state=42)\n",
    "sgd_scores = cross_val_score(sgd_model, all_data_bow, all_labels, cv=kf)\n",
    "print(\"Stochastic Gradient Descent Cross-Validation Accuracy: {:.2f}\".format(sgd_scores.mean()))\n",
    "\n"
   ]
  },
  {
   "cell_type": "code",
   "execution_count": 34,
   "id": "0609befd",
   "metadata": {
    "scrolled": true
   },
   "outputs": [
    {
     "name": "stdout",
     "output_type": "stream",
     "text": [
      "Model: MultinomialNB\n"
     ]
    },
    {
     "data": {
      "image/png": "[encoded data removed]",
      "text/plain": [
       "<Figure size 800x600 with 2 Axes>"
      ]
     },
     "metadata": {},
     "output_type": "display_data"
    },
    {
     "name": "stdout",
     "output_type": "stream",
     "text": [
      "Misclassified Instances:\n",
      "                                                Segment  \\\n",
      "1178  give away re-use terms Project Gutenberg Licen...   \n",
      "570   world ever warm ; even Pale Sherry would rosy-...   \n",
      "174   sarcastic humour , reserve , caprice , experie...   \n",
      "636   colophon ] NEW YORK GROSSET & DUNLAP _Publishe...   \n",
      "717   courteous bow , opened door octagonal room , e...   \n",
      "597   deliriums death . Abominable tumblers pours po...   \n",
      "433   , put shabby part whaling voyage , others set ...   \n",
      "927   2 Chapter 3 Chapter 4 Chapter 5 Chapter 6 Chap...   \n",
      "1024  look present . Majesty , course , stay London ...   \n",
      "724   sort way . mumbled money sent letter , knew . ...   \n",
      "497   visit Prairies June , scores scores miles wade...   \n",
      "198   certainly hampered loosenesses construction , ...   \n",
      "59    using eBook . Title : Pride Prejudice Author :...   \n",
      "967   12 Chapter 13 Chapter 14 Chapter 15 Chapter 16...   \n",
      "1169  eBook # 1661 ] recently updated : October 10 ,...   \n",
      "914   3 Chapter 4 Chapter 5 Chapter 6 Chapter 7 Chap...   \n",
      "590   weather side ice-island . liquor soon mounted ...   \n",
      "6     recently updated : April 14 , 2023 Language : ...   \n",
      "\n",
      "                       True Label              Predicted Label  \n",
      "1178           Arthur Conan Doyle                Lewis Carroll  \n",
      "570               Herman Melville                Lewis Carroll  \n",
      "174                   Jane Austen           Arthur Conan Doyle  \n",
      "636                   Bram Stoker                Lewis Carroll  \n",
      "717                   Bram Stoker           Arthur Conan Doyle  \n",
      "597               Herman Melville                  Bram Stoker  \n",
      "433               Herman Melville           Arthur Conan Doyle  \n",
      "927   Mary Wollstonecraft Shelley              Herman Melville  \n",
      "1024           Arthur Conan Doyle                  Bram Stoker  \n",
      "724                   Bram Stoker           Arthur Conan Doyle  \n",
      "497               Herman Melville                Lewis Carroll  \n",
      "198                   Jane Austen                Lewis Carroll  \n",
      "59                    Jane Austen                Lewis Carroll  \n",
      "967   Mary Wollstonecraft Shelley              Herman Melville  \n",
      "1169           Arthur Conan Doyle                Lewis Carroll  \n",
      "914   Mary Wollstonecraft Shelley              Herman Melville  \n",
      "590               Herman Melville  Mary Wollstonecraft Shelley  \n",
      "6                     Jane Austen                Lewis Carroll  \n"
     ]
    }
   ],
   "source": [
    "#ERROR ANALYSIS FOR MultinomialNB model\n",
    "from sklearn.metrics import confusion_matrix\n",
    "import seaborn as sns\n",
    "# List of models\n",
    "models = [\n",
    "    MultinomialNB(),\n",
    "]\n",
    "\n",
    "# Perform error analysis for each model\n",
    "for model in models:\n",
    "    # Train the model\n",
    "    model.fit(segment_train_bow, label_train)\n",
    "    \n",
    "    # Make predictions on the test set\n",
    "    predictions = model.predict(segment_test_bow)\n",
    "\n",
    "    print(f\"Model: {type(model).__name__}\")\n",
    "\n",
    "    # Generate confusion matrix\n",
    "    conf_mat = confusion_matrix(label_test, predictions)\n",
    "\n",
    "    # Visualize confusion matrix\n",
    "    plt.figure(figsize=(8, 6))\n",
    "    sns.heatmap(conf_mat, annot=True, fmt=\"d\", cmap=\"Blues\", xticklabels=sorted(set(label_test)),\n",
    "                yticklabels=sorted(set(label_test)))\n",
    "    plt.xlabel('Predicted')\n",
    "    plt.ylabel('True')\n",
    "    plt.title('Confusion Matrix -- MNB')\n",
    "    plt.show()\n",
    "\n",
    "    # Display misclassified instances\n",
    "    misclassified_indices = [i for i, (true_label, pred_label) in enumerate(zip(label_test, predictions)) if true_label != pred_label]\n",
    "    misclassified_segments = segment_test.iloc[misclassified_indices]\n",
    "    misclassified_labels = label_test.iloc[misclassified_indices]\n",
    "    misclassified_predictions = predictions[misclassified_indices]\n",
    "\n",
    "    # Display misclassified instances along with their true labels and predicted labels\n",
    "    misclassified_df = pd.DataFrame({'Segment': misclassified_segments, 'True Label': misclassified_labels,\n",
    "                                     'Predicted Label': misclassified_predictions})\n",
    "    print(\"Misclassified Instances:\")\n",
    "    print(misclassified_df)\n"
   ]
  },
  {
   "cell_type": "code",
   "execution_count": 25,
   "id": "058861c7",
   "metadata": {},
   "outputs": [
    {
     "name": "stdout",
     "output_type": "stream",
     "text": [
      "Predicted author: Mary Wollstonecraft Shelley\n"
     ]
    }
   ],
   "source": [
    "# Make predictions with MNB\n",
    "predictions = model.predict(segment_test_bow)\n",
    "\n",
    "#predict author function\n",
    "def predict_author(paragraph, vectorizer, model):\n",
    "    paragraph_bow = vectorizer.transform([paragraph])\n",
    "    prediction = model.predict(paragraph_bow)\n",
    "    return prediction[0]\n",
    "paragraph_to_predict = \"I cannot describe to you my sensations on the near prospect of my\\\n",
    "undertaking. It is impossible to communicate to you a conception of\\\n",
    "the trembling sensation, half pleasurable and half fearful, with which\\\n",
    "I am preparing to depart. I am going to unexplored regions, to “the\\\n",
    "land of mist and snow,” but I shall kill no albatross; therefore do not\\\n",
    "be alarmed for my safety or if I should come back to you as worn and\\\n",
    "woeful as the “Ancient Mariner.” You will smile at my allusion, but I\\\n",
    "will disclose a secret. I have often attributed my attachment to, my\\\n",
    "passionate enthusiasm for, the dangerous mysteries of ocean to that\\\n",
    "production of the most imaginative of modern poets.\"\n",
    "predicted_author = predict_author(paragraph_to_predict, vectorizer, model)\n",
    "\n",
    "print(f\"Predicted author: {predicted_author}\")"
   ]
  },
  {
   "cell_type": "code",
   "execution_count": 24,
   "id": "f67dc28e1bbaaae2",
   "metadata": {
    "ExecuteTime": {
     "end_time": "2024-01-26T01:22:39.055312Z",
     "start_time": "2024-01-26T01:22:38.053878Z"
    }
   },
   "outputs": [
    {
     "data": {
      "image/png": "[encoded data removed]",
      "text/plain": [
       "<Figure size 1000x600 with 1 Axes>"
      ]
     },
     "metadata": {},
     "output_type": "display_data"
    }
   ],
   "source": [
    "import matplotlib.pyplot as plt\n",
    "import seaborn as sns\n",
    "from sklearn.metrics import accuracy_score, confusion_matrix\n",
    "\n",
    "# List of models\n",
    "models = [MultinomialNB(), RandomForestClassifier(n_estimators=100, random_state=42),\n",
    "          KNeighborsClassifier(n_neighbors=5), svm.SVC(kernel='linear', C=20.0),\n",
    "          SGDClassifier(loss='hinge', alpha=0.0001, max_iter=100, random_state=42)]\n",
    "\n",
    "# Lists to store model names and accuracies\n",
    "model_names = []\n",
    "accuracies = []\n",
    "\n",
    "# Visualize accuracy for each model\n",
    "for model in models:\n",
    "    model.fit(segment_train_bow, label_train)\n",
    "    predictions = model.predict(segment_test_bow)\n",
    "    accuracy = accuracy_score(label_test, predictions)\n",
    "    \n",
    "    model_names.append(type(model).__name__)\n",
    "    accuracies.append(accuracy)\n",
    "\n",
    "# Bar chart for accuracy\n",
    "plt.figure(figsize=(10, 6))\n",
    "sns.barplot(x=model_names, y=accuracies, palette=\"viridis\")\n",
    "plt.ylim(0, 1.0)\n",
    "plt.title('Model Accuracy Comparison')\n",
    "plt.ylabel('Accuracy')\n",
    "plt.show()"
   ]
  }
 ],
 "metadata": {
  "kernelspec": {
   "display_name": "Python 3 (ipykernel)",
   "language": "python",
   "name": "python3"
  },
  "language_info": {
   "codemirror_mode": {
    "name": "ipython",
    "version": 3
   },
   "file_extension": ".py",
   "mimetype": "text/x-python",
   "name": "python",
   "nbconvert_exporter": "python",
   "pygments_lexer": "ipython3",
   "version": "3.7.8"
  }
 },
 "nbformat": 4,
 "nbformat_minor": 5
}
